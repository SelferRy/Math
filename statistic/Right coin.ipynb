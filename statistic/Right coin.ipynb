{
 "cells": [
  {
   "cell_type": "markdown",
   "metadata": {},
   "source": [
    "# Задача 2\n",
    "## Какую монету выбрали?\n",
    "**Условия:**  \n",
    "Есть две монеты: «правильная» (с одной стороны орёл, с другой решка) и «неправильная» (орёл на обеих сторонах). Берём одну монету наугад и подкидываем 5 раз. Все 5 раз выпадает орёл. \n",
    "  \n",
    "**Вопрос:**  \n",
    "Какова вероятность того, что выбрали «правильную» монету? "
   ]
  },
  {
   "cell_type": "markdown",
   "metadata": {},
   "source": [
    "**Решение:**  \n",
    "Используем теорему Байеса для нахождения апостериорной вероятности того, что мы выбрали «правильную» монету.  "
   ]
  },
  {
   "cell_type": "markdown",
   "metadata": {},
   "source": [
    "Запишем уравнение для апостериорной вероятности:\n",
    "$$ P(honest\\ |\\ eagle) = \\frac{P(honest) \\cdot P(eagle\\ |\\ honest)}{P(eagle)} $$\n",
    "  \n",
    "$$ P(eagle) = P(honest) \\cdot P(eagle\\ |\\ honest) + P(dishonest) \\cdot P(eagle\\ |\\ dishonest) $$\n",
    "где $ P(eagle) = P(D) $ - вероятность данных (evidence).\n",
    "\n",
    "\n",
    "То есть, если в более общем виде:\n",
    "$$ P(honest\\ |\\ eagle) = \\frac{P(honest) \\cdot P(eagle\\ |\\ honest)}{\\sum_{coin}{P(eagle\\ |\\ coin)}} $$\n",
    "$ coin\\ \\in\\ {[honest,\\ dishonest]} $\n",
    "  \n",
    "  \n",
    "$$ P(honest\\ |\\ eagle) = \\frac{P(honest) \\cdot P(eagle\\ |\\ honest)}\n",
    "                      {P(honest) \\cdot P(eagle\\ |\\ honest) + P(dishonest) \\cdot P(eagle\\ |\\ dishonest)} $$\n",
    "  \n",
    "В нашей задаче мы имеем дело с 5-ю уже случившимися экспериментами, которые являются независимыми.  \n",
    "То есть, для нахождения решения необходимо вычислить вероятности появления орла для каждой из монет после 5-ти бросков.\n",
    "\n",
    "Из условий задачи известно:\n",
    "$$ P_1(eagle\\ |\\ honest) = \\frac{1}{2} $$\n",
    "  \n",
    "$$ P_5(eagle\\ |\\ honest) = (\\frac{1}{2})^5 = \\frac{1}{32} $$\n",
    "  \n",
    "$$ P(honest) = \\frac{1}{2} $$\n",
    "  \n",
    "$$ P(dishonest) = \\frac{1}{2} $$\n",
    "  \n",
    "$$ P(eagle\\ |\\ dishonest) = 1 $$\n",
    "\n",
    "Таким образом, решение выглядит следующим образом:\n",
    "$$ P(honest\\ |\\ eagle) = \\frac{\\frac{1}{2} \\cdot \\frac{1}{32}}\n",
    "                      {\\frac{1}{2} \\cdot \\frac{1}{32} + \\frac{1}{2} \\cdot 1} \\approx 0.03 = 3 \\% $$\n",
    "  \n",
    "<!-- Теперь мы можем находить апостериорные вероятности, проводя серию экспериментов, подставляя апостериорную вероятность предыдущего эксперимента вместо априорной вероятности. Таким образом, уравнение для обновления вероятностей в ходе экспериментов имеет вид:  \n",
    "  \n",
    "$$ P_i(honest\\ |\\ eagle) = \\frac{P_{i-1}(honest\\ |\\ eagle) \\cdot P(eagle\\ |\\ honest)}\n",
    "                        {P(honest) \\cdot P(eagle\\ |\\ honest) + P(dishonest) \\cdot P(eagle\\ |\\ dishonest)} $$\n",
    "  \n",
    "где $i$ - номер эксперимента. \n",
    "И $ P_{0}(honest\\ |\\ eagle) = P_{0}(honest) $. -->"
   ]
  },
  {
   "cell_type": "code",
   "execution_count": 3,
   "metadata": {
    "scrolled": true
   },
   "outputs": [
    {
     "name": "stdout",
     "output_type": "stream",
     "text": [
      "\n",
      "Вероятность того, что мы выбрали \"правильную\" монету равна 3.030 %\n"
     ]
    }
   ],
   "source": [
    "class BayesCoin:\n",
    "    \"\"\"\n",
    "    This class define collectively exhaustive events for experiments with coin.\n",
    "    It contained static probabilities for the observations and methods.\n",
    "    \n",
    "    Goal: define confidence of honest coin.\n",
    "    \"\"\"\n",
    "    \n",
    "    def __init__(self):  # Добавить переключатель p_h=None, p_eh=None, p_d=None, p_ed=None\n",
    "        \"\"\"\n",
    "        Parameters:\n",
    "        ----------\n",
    "        p_h: probability of honest coin in collectively exhaustive events. P(honest)\n",
    "        p_eh: probability of eagle given honest coin after 5 experiments. P(eagle|honest)\n",
    "        p_d: probability of dishonest coin in collectively exhaustive events. P(dishonest)\n",
    "        p_ed: probability of eagle given honest coin. P(eagle|dishonest)\n",
    "        \"\"\"\n",
    "        self.p_h = 1/2\n",
    "        self.p_eh = 1/2\n",
    "        self.p_d = 1/2\n",
    "        self.p_ed = 1\n",
    "        \n",
    "    \n",
    "    def hypothesis(self, i):\n",
    "        \"\"\"\n",
    "        Arguments:\n",
    "        ----------\n",
    "        i: number experiments before.\n",
    "        p_eh: probability of eagle given honest coin. P(eagle|honest)\n",
    "        p_h: probability of honest coin in collectively exhaustive events. P(honest)\n",
    "        p_d: probability of dishonest coin in collectively exhaustive events. P(dishonest)\n",
    "        p_ed: probability of eagle given honest coin. P(eagle|dishonest)\n",
    "        \n",
    "        Return:\n",
    "        ------\n",
    "        p_he: probability of honest coin given eagle. P(honest|eagle). Posterior probability.\n",
    "        \"\"\"\n",
    "        p_h = self.p_h\n",
    "        p_eh = self.p_eh\n",
    "        p_d = self.p_d\n",
    "        p_ed = self.p_ed\n",
    "        self.posterior = p_h * p_eh**i / (p_h * p_eh**i + p_d * p_ed**i)\n",
    "        return self.posterior\n",
    "\n",
    "\n",
    "\n",
    "coin = BayesCoin()\n",
    "print(\"\\nВероятность того, что мы выбрали \\\"правильную\\\" монету равна {:.3f} %\".format(100 * coin.hypothesis(5)))"
   ]
  },
  {
   "cell_type": "code",
   "execution_count": null,
   "metadata": {},
   "outputs": [],
   "source": []
  }
 ],
 "metadata": {
  "kernelspec": {
   "display_name": "Python 3",
   "language": "python",
   "name": "python3"
  },
  "language_info": {
   "codemirror_mode": {
    "name": "ipython",
    "version": 3
   },
   "file_extension": ".py",
   "mimetype": "text/x-python",
   "name": "python",
   "nbconvert_exporter": "python",
   "pygments_lexer": "ipython3",
   "version": "3.8.8"
  }
 },
 "nbformat": 4,
 "nbformat_minor": 2
}