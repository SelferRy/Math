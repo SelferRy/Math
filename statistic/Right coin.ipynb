{
 "cells": [
  {
   "cell_type": "markdown",
   "metadata": {},
   "source": [
    "# Задача 2\n",
    "## Какую монету выбрали?\n",
    "**Условия:**  \n",
    "Есть две монеты: «правильная» (с одной стороны орёл, с другой решка) и «неправильная» (орёл на обеих сторонах). Берём одну монету наугад и подкидываем 5 раз. Все 5 раз выпадает орёл. \n",
    "  \n",
    "**Вопрос:**  \n",
    "Какова вероятность того, что выбрали «правильную» монету? "
   ]
  },
  {
   "cell_type": "markdown",
   "metadata": {},
   "source": [
    "**Решение:**  \n",
    "Используем теорему Байеса для нахождения апостериорной вероятности того, что мы выбрали «правильную» монету.  "
   ]
  },
  {
   "cell_type": "markdown",
   "metadata": {},
   "source": [
    "Из условий задачи известно:\n",
    "$$ \n",
    "P(eagle\\ |\\ honest) = \\frac{1}{2} \\\\\n",
    "P(honest) = \\frac{1}{2} \\\\\n",
    "P(dishonest) = \\frac{1}{2} \\\\\n",
    "P(eagle\\ |\\ dishonest) = 1 \\\\\n",
    "P(eagle) = P(honest) \\cdot P(eagle\\ |\\ honest) + P(dishonest) \\cdot P(eagle\\ |\\ dishonest) = \\frac{3}{4}\n",
    "$$\n",
    "\n",
    "Запишем уравнение для апостериорной вероятности:\n",
    "$$\n",
    "P(honest\\ |\\ eagle) = \\frac{P(honest) \\cdot P(eagle\\ |\\ honest)}{P(eagle)}\n",
    "$$\n",
    "  \n",
    "Или в более общем виде:\n",
    "$$\n",
    "P(honest\\ |\\ eagle) = \\frac{P(honest) \\cdot P(eagle\\ |\\ honest)}{\\sum_{coin}{P(eagle\\ |\\ coin)}}, \n",
    "\\quad coin\\ \\in\\ {[honest,\\ dishonest]}\n",
    "\\\\\n",
    "P(honest\\ |\\ eagle) = \\frac{P(honest) \\cdot P(eagle\\ |\\ honest)}\n",
    "                      {P(honest) \\cdot P(eagle\\ |\\ honest) + P(dishonest) \\cdot P(eagle\\ |\\ dishonest)}\n",
    "$$\n",
    "  \n",
    "<bk>  \n",
    "Теперь мы можем находить апостериорные вероятности, проводя серию экспериментов, подставляя апостериорную вероятность предыдущего эксперимента вместо априорной вероятности. Таким образом, уравнение для обновления вероятностей в ходе экспериментов имеет вид:  \n",
    "  \n",
    "$$ \n",
    "P_i(honest\\ |\\ eagle) = \\frac{P_{i-1}(honest\\ |\\ eagle) \\cdot P(eagle\\ |\\ honest)}{P(eagle)}\n",
    "$$\n",
    "  \n",
    "где $i$ - номер эксперимента. \n",
    "И $ P_{0}(honest\\ |\\ eagle) = P_{0}(honest) $."
   ]
  },
  {
   "cell_type": "code",
   "execution_count": 1,
   "metadata": {},
   "outputs": [
    {
     "name": "stdout",
     "output_type": "stream",
     "text": [
      "prior = 50.000 %, posterior = 33.333 %\n",
      "prior = 33.333 %, posterior = 22.222 %\n",
      "prior = 22.222 %, posterior = 14.815 %\n",
      "prior = 14.815 %, posterior = 9.877 %\n",
      "prior = 9.877 %, posterior = 6.584 %\n",
      "\n",
      "Вероятность того, что мы выбрали \"правильную\" монету равна 6.584 %\n"
     ]
    }
   ],
   "source": [
    "class BayesCoin:\n",
    "    \"\"\"\n",
    "    This class define collectively exhaustive events for experiments with coin.\n",
    "    It contained static probabilities for the observations and methods.\n",
    "    \n",
    "    Goal: define confidence of honest coin.\n",
    "    \"\"\"\n",
    "    \n",
    "    def __init__(self):\n",
    "        \"\"\"\n",
    "        Parameters:\n",
    "        ----------\n",
    "        p_eh: probability of eagle given honest coin. P(eagle|honest)\n",
    "        p_e: probability of eagle in collectively exhaustive events. P(eagle). \n",
    "             And it is also probability of the data (evidence, P(D)). Normalizing constant\n",
    "        p_h: probability of honest coin in collectively exhaustive events. P(honest)\n",
    "        p_d: probability of dishonest coin in collectively exhaustive events. P(dishonest)\n",
    "        p_ed probability of eagle given honest coin. P(eagle|dishonest)\n",
    "        \"\"\"\n",
    "        self.p_eh = 1/2\n",
    "        self.p_h = 1/2\n",
    "        self.p_d = 1/2\n",
    "        self.p_ed = 1\n",
    "        self.p_e = 3/4  # p_h * p_eh + p_d * p_ed\n",
    "\n",
    "    def hypothesis(self, p_h):\n",
    "        \"\"\"\n",
    "        Arguments:\n",
    "        ----------\n",
    "        p_eh: probability of eagle given honest coin. P(eagle|honest)\n",
    "        p_e: probability of eagle in collectively exhaustive events. P(eagle)\n",
    "        p_h: probability of honest coin in collectively exhaustive events. P(honest)\n",
    "        \n",
    "        Return:\n",
    "        ------\n",
    "        p_he: probability of honest coin given eagle. Posterior probability. P(honest|eagle)\n",
    "        \"\"\"\n",
    "        p_eh = self.p_eh\n",
    "        p_e = self.p_e\n",
    "        return p_h * p_eh / p_e\n",
    "\n",
    "    def bayessian_loop(self, n, print_prob=True):\n",
    "        \"\"\"\n",
    "        Get posterior probability of honest coin given eagles after n observations at the coin.\n",
    "        Arguments:\n",
    "        ---------\n",
    "        n: number for-loop iterations.\n",
    "        print_prob: switcher for view intermediate result.\n",
    "        \n",
    "        Return:\n",
    "        ------\n",
    "        p_he: P(honest|eagle)\n",
    "        \"\"\"\n",
    "        p_h =  self.p_h\n",
    "        for i in range(n):\n",
    "            p_he = self.hypothesis(p_h)\n",
    "            if print_prob:\n",
    "                print(\"prior = {:.3f} %, posterior = {:.3f} %\".format(100 * p_h, 100 * p_he))\n",
    "            p_h = p_he\n",
    "        return p_he\n",
    "\n",
    "\n",
    "coin = BayesCoin()\n",
    "print(\"\\nВероятность того, что мы выбрали \\\"правильную\\\" монету равна {:.3f} %\".format(100 * coin.bayessian_loop(5)))"
   ]
  }
 ],
 "metadata": {
  "kernelspec": {
   "display_name": "Python 3",
   "language": "python",
   "name": "python3"
  },
  "language_info": {
   "codemirror_mode": {
    "name": "ipython",
    "version": 3
   },
   "file_extension": ".py",
   "mimetype": "text/x-python",
   "name": "python",
   "nbconvert_exporter": "python",
   "pygments_lexer": "ipython3",
   "version": "3.8.8"
  }
 },
 "nbformat": 4,
 "nbformat_minor": 2
}