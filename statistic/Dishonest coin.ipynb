{
 "cells": [
  {
   "cell_type": "code",
   "execution_count": 1,
   "id": "3ed15365",
   "metadata": {},
   "outputs": [],
   "source": [
    "import numpy as np\n",
    "import matplotlib.pyplot as plt\n",
    "%matplotlib inline"
   ]
  },
  {
   "cell_type": "markdown",
   "id": "bf61a3d8",
   "metadata": {},
   "source": [
    "# Задача 1\n",
    "## Когда убедимся, что монетка нечестная?\n",
    "**Условия:**  \n",
    "Подкинули монету N раз. Кол-во случаев, когда выпал орёл, на 10% больше, чем кол-во случаев, когда выпала решка.  \n",
    "  \n",
    "**Вопрос:**  \n",
    "При каком N мы можем сказать, что монета «нечестная» (орёл и решка выпадают с разной вероятностью)?"
   ]
  },
  {
   "cell_type": "markdown",
   "id": "47eda9da",
   "metadata": {},
   "source": [
    "**Решение:**  \n",
    "Если рассматривать постановку вопроса строго, то точно (без погрешности) можно будет сказать при $ n \\to +\\infty $, т.е.\n",
    "$$ \\lim_{n \\to +\\infty} \\delta(n) = 0,\\quad где\\ n\\in N $$\n",
    "  \n",
    "Если же дополнить задачу условием, что действия происходят в реальном Мире и мы ограничены вычислительными мощностями, то придётся выбрать допустимую погрешность $\\delta$ и необходимую уверенность $\\gamma$. \n",
    "<!-- Для начала, выберем погрешность 0.05  -->\n",
    "\n",
    "Из условия задачи известно, что на рассматриваемой выборке орлов выпадет на 10% больше, чем решек. Поскольку задача состоит в том, чтобы найти N, при котором мы сможем утверждать, что монетка \"нечестная\", то будем считать, что она действительно нечестная и различие в 10% созраняется на бесконечно большой выборке. Тогда мы можем вычислить вероятность появления орла или решка, описав полную систему событий:\n",
    "    $$ p + q = p + (1 - p) = 1 $$\n",
    "где p - вероятность появления решка, q - орла. Накладывая ограничение из условия можем записать:\n",
    "    $$ q = 1 - p = 1.1 \\cdot p $$\n",
    "    $$ p = \\frac{1}{2.1}\\quad \\Rightarrow \\quad q = (1 - p) = \\frac{1.1}{2.1}$$\n",
    "Воспользуемся доверительным интервалом для того, чтобы с некоторой погрешностью $\\delta$ оценить количество необходимых жкспериментов с монеткой:\n",
    "    $$ \\frac{tails}{N} - \\delta\\ <\\ p\\ <\\ \\frac{tails}{N} + \\delta $$\n",
    "или \n",
    "    $$ P(|{\\frac{tails}{N} - p}|\\ <\\ \\delta) = \\gamma $$\n",
    "также известно, что:\n",
    "    $$ \\gamma = 2 \\cdot \\Phi(\\delta \\cdot \\frac{\\sqrt{N}}{\\sqrt{p \\cdot q}}) $$\n",
    "Тогда\n",
    "$$ \\Phi(\\delta \\cdot \\frac{\\sqrt{N}}{\\sqrt{p \\cdot q}}) = \\frac{\\gamma}{2} $$ \n",
    "\n",
    "Используя таблицу значений функции Лапласа можем найти аргумент при данном значении функции. Обозначим его $\\phi$:\n",
    "$$ \\delta \\cdot \\frac{\\sqrt{N}}{\\sqrt{p \\cdot q}} = \\phi $$\n",
    "\n",
    "Тогда, зная $\\phi$ и $\\delta$, можно однозначно найти N:\n",
    "$$ N =  \\phi^2 \\cdot \\frac{p \\cdot q}{\\delta^2} $$\n",
    "\n",
    "$p$ и $q$ нам уже известны. Осталось выбрать $\\gamma$ (от которого зависит $\\phi$) и $\\delta$. Возьмём $\\gamma = 0.95$. \n",
    "$$ \\Phi(\\delta \\cdot \\frac{\\sqrt{N}}{\\sqrt{p \\cdot q}}) = \\frac{0.95}{2} = 0.475 $$\n",
    "Используя таблицу значений функции Лапласа находим, что аргумент при данном значении функции равен $\\phi = 1.96$.  \n",
    "И рассмотрим часто используемое $\\delta = 0.05$. \n",
    "\n",
    "Итак\n",
    "    $$ N =  \\lceil {1.96^2 \\cdot \\frac{\\frac{1}{2.1} \\cdot \\frac{1.1}{2.1}}{0.05^2}} \\rceil = 384 $$\n",
    "  \n",
    "<!-- ==================================================================\n",
    "$$ p + q = p + (1 - p) = 1 p + 1.1 \\cdot p = \\frac{1 + 1.1}{2.1} = 1 $$\n",
    "$$ \\Rightarrow p = \\frac{1}{2.1},\\quad q = \\frac{1.1}{2.1} $$\n",
    "$$ tails =  $$\n",
    "\n",
    "Тогда число выпадений монеты орлом будет \n",
    "$$eagle = 1.1 \\cdot x$$ \n",
    "\n",
    "Имеем вероятности выпадения решка и орла:\n",
    "$$ P(tails) = \\frac{x}{N} $$  \n",
    "$$ P(eagle) = \\frac{1.1 \\cdot x}{N} $$\n",
    "\n",
    "Полная система событий будет описываться выражением:  \n",
    "$$ P(tails) + P(eagle) = 1 $$  \n",
    "или\n",
    "$$ \\frac{x}{N} + \\frac{1.1 \\cdot x}{N} = 1 $$\n",
    "Следовательно  \n",
    "$$ \\frac{2.1 \\cdot x}{N} = 1 $$ \n",
    "-->"
   ]
  },
  {
   "cell_type": "code",
   "execution_count": 2,
   "id": "9023cd7f",
   "metadata": {},
   "outputs": [],
   "source": [
    "def N(delta=0.05, phi=1.96, p=1/2.1, q=1.1/2.1):\n",
    "    N = np.square(phi) * p * q / np.square(delta)\n",
    "    return np.ceil(N).astype(int)"
   ]
  },
  {
   "cell_type": "code",
   "execution_count": 23,
   "id": "d25de92c",
   "metadata": {},
   "outputs": [
    {
     "name": "stdout",
     "output_type": "stream",
     "text": [
      "при delta = 0.05, N = 384\n"
     ]
    }
   ],
   "source": [
    "delta = 0.05\n",
    "n = N(delta)\n",
    "print(f\"при delta = {delta}, N = {n}\")"
   ]
  },
  {
   "cell_type": "markdown",
   "id": "79df8ba0",
   "metadata": {},
   "source": [
    "### Посмотрим, как возрастает необходимое количество экспериментов  при увеличении требований к точности"
   ]
  },
  {
   "cell_type": "code",
   "execution_count": 25,
   "id": "337e87a3",
   "metadata": {
    "scrolled": true
   },
   "outputs": [
    {
     "name": "stdout",
     "output_type": "stream",
     "text": [
      "при delta = 0.1, N = 96\n",
      "при delta = 0.05, N = 384\n",
      "при delta = 0.01, N = 9583\n"
     ]
    }
   ],
   "source": [
    "delta = [0.1, 0.05, 0.01]\n",
    "for d in delta:\n",
    "    n = N(d)\n",
    "    print(f\"при delta = {d}, N = {n}\")"
   ]
  },
  {
   "cell_type": "code",
   "execution_count": 5,
   "id": "c7e0b85b",
   "metadata": {
    "scrolled": true
   },
   "outputs": [
    {
     "data": {
      "image/png": "[encoded data removed]",
      "text/plain": [
       "<Figure size 432x288 with 1 Axes>"
      ]
     },
     "metadata": {
      "needs_background": "light"
     },
     "output_type": "display_data"
    }
   ],
   "source": [
    "# Wide range\n",
    "few_delta = np.linspace(0.001, 0.1, 100)\n",
    "n = N(few_delta)\n",
    "plt.plot(n, few_delta);"
   ]
  },
  {
   "cell_type": "code",
   "execution_count": 6,
   "id": "e06a8561",
   "metadata": {},
   "outputs": [
    {
     "data": {
      "image/png": "[encoded data removed]",
      "text/plain": [
       "<Figure size 432x288 with 1 Axes>"
      ]
     },
     "metadata": {
      "needs_background": "light"
     },
     "output_type": "display_data"
    }
   ],
   "source": [
    "# Refined range\n",
    "few_delta = np.linspace(0.001, 0.01, 100)\n",
    "n = N(few_delta)\n",
    "plt.plot(n, few_delta);"
   ]
  },
  {
   "cell_type": "code",
   "execution_count": 18,
   "id": "26b48dc4",
   "metadata": {
    "scrolled": true
   },
   "outputs": [
    {
     "data": {
      "image/png": "[encoded data removed]",
      "text/plain": [
       "<Figure size 432x288 with 1 Axes>"
      ]
     },
     "metadata": {
      "needs_background": "light"
     },
     "output_type": "display_data"
    }
   ],
   "source": [
    "few_delta = np.linspace(0.01, 0.05, 100)\n",
    "n = N(few_delta)\n",
    "plt.plot(n, few_delta)\n",
    "plt.grid()\n",
    "plt.scatter(N(0.0225), 0.0225);"
   ]
  },
  {
   "cell_type": "code",
   "execution_count": 26,
   "id": "ae943228",
   "metadata": {
    "scrolled": true
   },
   "outputs": [
    {
     "name": "stdout",
     "output_type": "stream",
     "text": [
      "при delta = 0.5, N = 4\n",
      "при delta = 0.1, N = 96\n",
      "при delta = 0.05, N = 384\n",
      "при delta = 0.0225, N = 1893\n",
      "при delta = 0.01, N = 9583\n"
     ]
    }
   ],
   "source": [
    "N(0.5), N(0.1), N(0.05), N(0.0225), N(0.01)\n",
    "delta = [0.5, 0.1, 0.05, 0.0225, 0.01]\n",
    "for d in delta:\n",
    "    n = N(d)\n",
    "    print(f\"при delta = {d}, N = {n}\")"
   ]
  },
  {
   "cell_type": "markdown",
   "id": "c4ed492c",
   "metadata": {},
   "source": [
    "# Заключение:\n",
    "Выбор количества необходимых эскпериментов с монеткой является, с одной стороны, условным. С другой стороны, в пользу выбора того или иного количества наблюдений могут быть высказаны аргументы. Всё упирается в риски, которые возникнуть в случае ошибки. Условно разделим их на три категории:\n",
    "1. **Малые затраты от рисков**  \n",
    "Пример: Вы поспорили с другом  \n",
    "В данном случае я бы рекомендовал ориентироваться на 4-96 испытаний\n",
    "2. **Средние затраты от рисков**   \n",
    "Как ориентир выбрал бы $ N = 384 $\n",
    "3. **Большие затраты от рисков**  \n",
    "Свойственно высоко нагурженным системам. Например, монетка подкидывается очень большое количество раз и перекос математического ожидания в сторону от 1/2 приводит к большим затратам по абсолютному значению некоторой, зависимой от результатов бросков монетки величины. Предположим, некий игрок в казино сделал подлог монетки (честную заменил на нечестную) и играет без остановки, ставя всё время на орла. Также он рассказал об этом своим друзьям и знакомым, которые часто захаживают в казино, попытать счастья в лотерее с положительным мат.ожиданием.  \n",
    "В этом случае, необходимо делать выбор в зависимости от отношения затрат на тестирование монетки и затрат на ошибки. Исходя из последнего графика мы можем заметить, что в рассматриваемом диапазоне при $\\delta > 0.05$ начинается заметное возрастание затрат на испытания. В точке $\\delta \\approx 0.0225$ происходит перелом (скорость изменения угола касательной к функции резко увеличивается, сам угол уменьшается). Вероятно, имеет смысл рассмотреть диапазон значений $N \\in [384, 1893] $. Необходим учёт экономического или прочего(-их) факторов, связанных с важностью понимания истинной честности/нечестности монетки.\n",
    "  \n",
    "В любом случае, выбор количества испытаний это trade-off соглашение между затратами на проверки и затратами на потенциальные убытки от рисков."
   ]
  }
 ],
 "metadata": {
  "kernelspec": {
   "display_name": "Python 3",
   "language": "python",
   "name": "python3"
  },
  "language_info": {
   "codemirror_mode": {
    "name": "ipython",
    "version": 3
   },
   "file_extension": ".py",
   "mimetype": "text/x-python",
   "name": "python",
   "nbconvert_exporter": "python",
   "pygments_lexer": "ipython3",
   "version": "3.8.8"
  }
 },
 "nbformat": 4,
 "nbformat_minor": 5
}
